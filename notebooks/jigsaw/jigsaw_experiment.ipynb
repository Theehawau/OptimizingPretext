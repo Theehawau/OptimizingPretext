{
 "cells": [
  {
   "cell_type": "markdown",
   "id": "adbb0764-f13b-4afd-9bd7-5fdd58b63f8f",
   "metadata": {},
   "source": [
    "# JigSaw pretext task\n",
    "Following [the original implementation](https://arxiv.org/pdf/1603.09246) <br>\n",
    "Also useful to look at [the FAIR paper](https://arxiv.org/pdf/1905.01235) (page 12), for details on the implementation.<br>\n",
    "Adapted to use ResNet18 instead of CFN.\n",
    "TODO\n",
    "- Organize into separate .py modules for JigSaw utils\n",
    "- Add ViT\n",
    "- Change training dataset to something w/ resolution of ~255x255 to avoid the need to upscate data\n",
    "- Add the evaluations -> basically take the (pretrained) resnet module and plug it into another module w/ a clean classification head \n",
    "    - linear probing\n",
    "    - full ft"
   ]
  },
  {
   "cell_type": "code",
   "execution_count": 1,
   "id": "150c7425-5ca5-41b9-b507-1e58b5eef889",
   "metadata": {},
   "outputs": [],
   "source": [
    "import torch\n",
    "import torch.nn as nn\n",
    "import torch.optim as optim\n",
    "import torch.utils.data as data\n",
    "from torchvision import transforms, models\n",
    "from PIL import Image\n",
    "import numpy as np\n",
    "import os\n",
    "import random\n",
    "from tqdm import tqdm\n",
    "from datasets import load_dataset"
   ]
  },
  {
   "cell_type": "code",
   "execution_count": 2,
   "id": "7f13f6ce-5c49-4582-a48f-5cf9007a7518",
   "metadata": {},
   "outputs": [
    {
     "data": {
      "text/plain": [
       "<torch._C.Generator at 0x14c6c03dedb0>"
      ]
     },
     "execution_count": 2,
     "metadata": {},
     "output_type": "execute_result"
    }
   ],
   "source": [
    "# Set random seed for reproducibility -> maybe use pytorch lightning for reproducibility\n",
    "random.seed(42)\n",
    "np.random.seed(42)\n",
    "torch.manual_seed(42)"
   ]
  },
  {
   "cell_type": "markdown",
   "id": "798b2f0d-4b60-42b4-ab97-310fa9992e09",
   "metadata": {},
   "source": [
    "## Load Tiny-ImageNet from HF"
   ]
  },
  {
   "cell_type": "code",
   "execution_count": 3,
   "id": "8f139d43-ccdb-4e7e-b145-55e7a2aaf561",
   "metadata": {},
   "outputs": [],
   "source": [
    "tinyImageNet_dataset = load_dataset(\"zh-plus/tiny-imagenet\")\n",
    "# We can also download it from here http://cs231n.stanford.edu/tiny-imagenet-200.zip but i think HFs its easier"
   ]
  },
  {
   "cell_type": "code",
   "execution_count": 4,
   "id": "56f3f690-4089-4f6b-876f-7efa5644439c",
   "metadata": {},
   "outputs": [
    {
     "data": {
      "text/plain": [
       "DatasetDict({\n",
       "    train: Dataset({\n",
       "        features: ['image', 'label'],\n",
       "        num_rows: 100000\n",
       "    })\n",
       "    valid: Dataset({\n",
       "        features: ['image', 'label'],\n",
       "        num_rows: 10000\n",
       "    })\n",
       "})"
      ]
     },
     "execution_count": 4,
     "metadata": {},
     "output_type": "execute_result"
    }
   ],
   "source": [
    "tinyImageNet_dataset"
   ]
  },
  {
   "cell_type": "markdown",
   "id": "3ed96c94-df0f-429f-9f66-139dd1e24f72",
   "metadata": {},
   "source": [
    "## Prepare dataset"
   ]
  },
  {
   "cell_type": "code",
   "execution_count": 5,
   "id": "f475fa7d-6a08-4ece-9063-5a78f5cf4220",
   "metadata": {},
   "outputs": [],
   "source": [
    "def generate_permutations(n_permutations, n_tiles):\n",
    "    \"\"\"\n",
    "    Generates a list of permutations, these will essentially be the 'gold truth' labels\n",
    "    \"\"\"\n",
    "    permutations = []\n",
    "    seen = set()\n",
    "    while len(permutations) < n_permutations:\n",
    "        perm = tuple(np.random.permutation(n_tiles))\n",
    "        if perm not in seen:\n",
    "            permutations.append(perm)\n",
    "            seen.add(perm)\n",
    "    return permutations"
   ]
  },
  {
   "cell_type": "code",
   "execution_count": 6,
   "id": "07d220da-4f5d-49fa-8032-73a5a69bdc1d",
   "metadata": {},
   "outputs": [],
   "source": [
    "# Generate n_permutations permutations for 9 tiles, these values are related to the complexity of the task and should be updated as necessary\n",
    "n_permutations = 1000 ##essentially the number of classes\n",
    "n_tiles = 9\n",
    "permutations = generate_permutations(n_permutations, n_tiles)\n",
    "\n",
    "# Enumerate and store permutations\n",
    "permutations_dict = {i: perm for i, perm in enumerate(permutations)} "
   ]
  },
  {
   "cell_type": "code",
   "execution_count": 7,
   "id": "cfc9dcc6-d17b-49a3-98e0-1337e398ea4e",
   "metadata": {},
   "outputs": [
    {
     "name": "stdout",
     "output_type": "stream",
     "text": [
      "These indices will basically be the possible \"gold\" labels :p\n"
     ]
    }
   ],
   "source": [
    "permutations[:3] \n",
    "print('These indices will basically be the possible \"gold\" labels :p')"
   ]
  },
  {
   "cell_type": "code",
   "execution_count": 14,
   "id": "f46e30a4-b111-4a11-a2a8-b3eaeb7cf785",
   "metadata": {},
   "outputs": [],
   "source": [
    "class JigsawPuzzleDataset(data.Dataset):\n",
    "    def __init__(self, hf_dataset, permutations, transform=None):\n",
    "        \"\"\"\n",
    "        Input:\n",
    "            hf_dataset: HuggingFace Dataset object.\n",
    "            permutations: List of permutations.\n",
    "            transform: Optional transform to be applied on a sample.\n",
    "        \"\"\"\n",
    "        self.dataset = hf_dataset\n",
    "        self.permutations = permutations\n",
    "        self.n_permutations = len(permutations)\n",
    "        self.n_tiles = 9  # 3x3 grid -> this can be modified later\n",
    "        self.transform = transform\n",
    "\n",
    "    def __len__(self):\n",
    "        return len(self.dataset)\n",
    "\n",
    "    def __getitem__(self, idx):\n",
    "        # Load image from the HuggingFace dataset and convert to RGB\n",
    "        image = self.dataset[idx]['image'].convert('RGB')  # Ensure image is in RGB\n",
    "\n",
    "        # We'll resize it to 255x255 since this is ResNet's input size\n",
    "        image = image.resize((255, 255))\n",
    "\n",
    "        # Divide the image into 3x3 grid of tiles (85x85 pixels each)\n",
    "        tiles = []\n",
    "        tile_size = 85 # 85 * 3 = 255\n",
    "\n",
    "        ## Iterate over possible tiles and create the patches\n",
    "        for i in range(3):\n",
    "            for j in range(3):\n",
    "\n",
    "                '''\n",
    "                Original paper explanation: We randomly crop a 225 × 225 pixel window from an image (red dashed box), divide it into a 3 × 3 grid, and randomly pick a 64 × 64 pixel tiles from each 75 × 75 pixel cell.\n",
    "                '''\n",
    "\n",
    "                # Get boundaries and crop\n",
    "                left = j * tile_size\n",
    "                upper = i * tile_size\n",
    "                right = left + tile_size\n",
    "                lower = upper + tile_size\n",
    "                tile = image.crop((left, upper, right, lower))\n",
    "                \n",
    "                # Random crop of 64x64 pixels with random shifts\n",
    "                shift_max = tile_size - 64  # Max shift to introduce randomness\n",
    "                left_shift = random.randint(0, shift_max)\n",
    "                upper_shift = random.randint(0, shift_max)\n",
    "                tile = tile.crop((left_shift, upper_shift, left_shift + 64, upper_shift + 64))\n",
    "                \n",
    "                # Apply any transform passed as argument\n",
    "                if self.transform is not None:\n",
    "                    tile = self.transform(tile)\n",
    "                    \n",
    "                tiles.append(tile)\n",
    "                \n",
    "        # Select a random permutation from the pre-computed permutations\n",
    "        perm_idx = random.randint(0, self.n_permutations - 1)\n",
    "        perm = self.permutations[perm_idx]\n",
    "\n",
    "        # Shuffle the tiles according to the permutation\n",
    "        shuffled_tiles = [tiles[p] for p in perm]\n",
    "\n",
    "        # Stack tiles into a tensor\n",
    "        tiles_tensor = torch.stack(shuffled_tiles, dim=0)  # Shape: [9, 3, 64, 64]\n",
    "\n",
    "        # Return the shuffled tiles and the permutation index which is the gold label we aim the model to predict\n",
    "        return tiles_tensor, perm_idx\n"
   ]
  },
  {
   "cell_type": "code",
   "execution_count": 15,
   "id": "faf96c46-4627-435f-903f-27e7a4a8152a",
   "metadata": {},
   "outputs": [],
   "source": [
    "transform = transforms.Compose([transforms.ColorJitter(brightness=0.1, contrast=0.1, saturation=0.1, hue=0.1),transforms.ToTensor()])"
   ]
  },
  {
   "cell_type": "markdown",
   "id": "5812c32c-da8c-46af-af6a-b14f1fdb6ec6",
   "metadata": {},
   "source": [
    "## Instance the torch module"
   ]
  },
  {
   "cell_type": "code",
   "execution_count": 16,
   "id": "1b3e6a08-0cf7-4bab-b757-a333b4dcbba7",
   "metadata": {},
   "outputs": [],
   "source": [
    "class JigsawNet(nn.Module):\n",
    "    def __init__(self, \n",
    "                 n_permutations,\n",
    "                 architecture = 'resnet', # 'resnet' or 'vit'\n",
    "                ):\n",
    "        \n",
    "        super(JigsawNet, self).__init__()\n",
    "\n",
    "        if architecture=='resnet':\n",
    "            # Backbone ResNet model TODO: replace by ResNet 50\n",
    "            # self.resnet = models.resnet18(pretrained=False) # I thnk this is deprecated\n",
    "            self.resnet = models.resnet18() \n",
    "            self.resnet.fc = nn.Identity()  #Remove the classification layer\n",
    "            \n",
    "        elif architecture=='vit':\n",
    "            pass ##TODO\n",
    "\n",
    "        # Fully connected layers << to dispose after the PTT\n",
    "        self.fc = nn.Sequential(\n",
    "            nn.Linear(512 * 9, 4096), # each genertaes a 512-dimensional vector\n",
    "            nn.ReLU(),\n",
    "            nn.Linear(4096, n_permutations)\n",
    "        )\n",
    "\n",
    "    def forward(self, x):\n",
    "        # x shape: [batch_size, 9, 3, 64, 64]\n",
    "        batch_size = x.size(0)\n",
    "\n",
    "        # Combine batch and tile dimensions (siamese network -> feed the same weights all the patches at once)\n",
    "        x = x.view(batch_size * 9, 3, 64, 64)  \n",
    "        features = self.resnet(x)  # Shape: [batch_size * 9, 512]\n",
    "\n",
    "        # Concatenate the patches before the linear layers that learns the differences\n",
    "        features = features.view(batch_size, 9 * 512)  # Shape: [batch_size, 9 * 512]\n",
    "\n",
    "        #\n",
    "        out = self.fc(features)  # Shape: [batch_size, n_permutations]\n",
    "        return out"
   ]
  },
  {
   "cell_type": "markdown",
   "id": "db629540-6598-423a-9d30-fee32e1774a8",
   "metadata": {},
   "source": [
    "## Training\n",
    "Hyperparameters should be adapted"
   ]
  },
  {
   "cell_type": "code",
   "execution_count": 18,
   "id": "d64757dc-f103-423a-a390-7d48d9eb6539",
   "metadata": {},
   "outputs": [],
   "source": [
    "model = JigsawNet(n_permutations=n_permutations)\n",
    "\n",
    "device = torch.device('cuda' if torch.cuda.is_available() else 'cpu')\n",
    "model = model.to(device)"
   ]
  },
  {
   "cell_type": "code",
   "execution_count": 19,
   "id": "9913e7fd-8f14-41b9-bf64-2aa8a915e326",
   "metadata": {},
   "outputs": [
    {
     "name": "stderr",
     "output_type": "stream",
     "text": [
      "/home/emilio.villa/miniconda3/envs/nlp24/lib/python3.12/site-packages/torch/utils/data/dataloader.py:557: UserWarning: This DataLoader will create 4 worker processes in total. Our suggested max number of worker in current system is 2, which is smaller than what this DataLoader is going to create. Please be aware that excessive worker creation might get DataLoader running slow or even freeze, lower the worker number to avoid potential slowness/freeze if necessary.\n",
      "  warnings.warn(_create_warning_msg(\n"
     ]
    }
   ],
   "source": [
    "# Create the datasets and dataloaders\n",
    "train_dataset = JigsawPuzzleDataset(tinyImageNet_dataset['train'], permutations, transform=transform)\n",
    "valid_dataset = JigsawPuzzleDataset(tinyImageNet_dataset['valid'], permutations, transform=transform)\n",
    "\n",
    "train_loader = data.DataLoader(train_dataset, batch_size=128, shuffle=True, num_workers=4)\n",
    "valid_loader = data.DataLoader(valid_dataset, batch_size=128, shuffle=False, num_workers=4)"
   ]
  },
  {
   "cell_type": "code",
   "execution_count": 20,
   "id": "c908c9da-0688-4539-9573-4ca3f130ce13",
   "metadata": {},
   "outputs": [
    {
     "name": "stdout",
     "output_type": "stream",
     "text": [
      "Shape of dataset output: torch.Size([128, 9, 3, 64, 64])\n"
     ]
    }
   ],
   "source": [
    "print('Shape of dataset output: {}'.format(next(iter(train_loader))[0].shape))"
   ]
  },
  {
   "cell_type": "code",
   "execution_count": 21,
   "id": "fdef3072-51e9-43d9-8a2a-b4e2ddcf15b1",
   "metadata": {},
   "outputs": [],
   "source": [
    "criterion = nn.CrossEntropyLoss()\n",
    "optimizer = optim.SGD(model.parameters(), lr=0.001, momentum=0.9, weight_decay=1e-4)\n",
    "num_epochs = 10  \n",
    "log_each = 100"
   ]
  },
  {
   "cell_type": "code",
   "execution_count": null,
   "id": "72def79d-4d44-47de-bd29-b4d110666c55",
   "metadata": {},
   "outputs": [
    {
     "name": "stderr",
     "output_type": "stream",
     "text": [
      " 13%|█████▏                                   | 100/782 [01:06<04:47,  2.37it/s]"
     ]
    },
    {
     "name": "stdout",
     "output_type": "stream",
     "text": [
      "Epoch [1/10], Batch [100], Loss: 6.9271\n"
     ]
    },
    {
     "name": "stderr",
     "output_type": "stream",
     "text": [
      " 26%|██████████▍                              | 200/782 [02:10<04:05,  2.37it/s]"
     ]
    },
    {
     "name": "stdout",
     "output_type": "stream",
     "text": [
      "Epoch [1/10], Batch [200], Loss: 6.9242\n"
     ]
    },
    {
     "name": "stderr",
     "output_type": "stream",
     "text": [
      " 38%|███████████████▋                         | 300/782 [03:14<03:40,  2.19it/s]"
     ]
    },
    {
     "name": "stdout",
     "output_type": "stream",
     "text": [
      "Epoch [1/10], Batch [300], Loss: 6.9202\n"
     ]
    },
    {
     "name": "stderr",
     "output_type": "stream",
     "text": [
      " 51%|████████████████████▉                    | 400/782 [04:17<02:36,  2.44it/s]"
     ]
    },
    {
     "name": "stdout",
     "output_type": "stream",
     "text": [
      "Epoch [1/10], Batch [400], Loss: 6.9152\n"
     ]
    },
    {
     "name": "stderr",
     "output_type": "stream",
     "text": [
      " 64%|██████████████████████████▏              | 500/782 [05:20<01:56,  2.42it/s]"
     ]
    },
    {
     "name": "stdout",
     "output_type": "stream",
     "text": [
      "Epoch [1/10], Batch [500], Loss: 6.9097\n"
     ]
    },
    {
     "name": "stderr",
     "output_type": "stream",
     "text": [
      " 77%|███████████████████████████████▍         | 600/782 [06:23<01:19,  2.28it/s]"
     ]
    },
    {
     "name": "stdout",
     "output_type": "stream",
     "text": [
      "Epoch [1/10], Batch [600], Loss: 6.9106\n"
     ]
    },
    {
     "name": "stderr",
     "output_type": "stream",
     "text": [
      " 89%|████████████████████████████████████▋    | 699/782 [07:27<00:43,  1.90it/s]"
     ]
    },
    {
     "name": "stdout",
     "output_type": "stream",
     "text": [
      "Epoch [1/10], Batch [700], Loss: 6.9027\n"
     ]
    },
    {
     "name": "stderr",
     "output_type": "stream",
     "text": [
      "100%|█████████████████████████████████████████| 782/782 [08:17<00:00,  1.57it/s]\n",
      "100%|███████████████████████████████████████████| 79/79 [00:50<00:00,  1.57it/s]\n"
     ]
    },
    {
     "name": "stdout",
     "output_type": "stream",
     "text": [
      "Validation Loss: 6.8944, Validation Accuracy: 0.27%\n"
     ]
    },
    {
     "name": "stderr",
     "output_type": "stream",
     "text": [
      " 13%|█████▏                                   | 100/782 [01:05<04:30,  2.52it/s]"
     ]
    },
    {
     "name": "stdout",
     "output_type": "stream",
     "text": [
      "Epoch [2/10], Batch [100], Loss: 6.8868\n"
     ]
    },
    {
     "name": "stderr",
     "output_type": "stream",
     "text": [
      " 26%|██████████▍                              | 200/782 [02:08<03:51,  2.51it/s]"
     ]
    },
    {
     "name": "stdout",
     "output_type": "stream",
     "text": [
      "Epoch [2/10], Batch [200], Loss: 6.8753\n"
     ]
    },
    {
     "name": "stderr",
     "output_type": "stream",
     "text": [
      " 38%|███████████████▋                         | 300/782 [03:11<03:29,  2.30it/s]"
     ]
    },
    {
     "name": "stdout",
     "output_type": "stream",
     "text": [
      "Epoch [2/10], Batch [300], Loss: 6.8540\n"
     ]
    },
    {
     "name": "stderr",
     "output_type": "stream",
     "text": [
      " 51%|████████████████████▉                    | 400/782 [04:13<02:32,  2.51it/s]"
     ]
    },
    {
     "name": "stdout",
     "output_type": "stream",
     "text": [
      "Epoch [2/10], Batch [400], Loss: 6.8387\n"
     ]
    },
    {
     "name": "stderr",
     "output_type": "stream",
     "text": [
      " 64%|██████████████████████████▏              | 499/782 [05:15<02:20,  2.02it/s]"
     ]
    },
    {
     "name": "stdout",
     "output_type": "stream",
     "text": [
      "Epoch [2/10], Batch [500], Loss: 6.8103\n"
     ]
    },
    {
     "name": "stderr",
     "output_type": "stream",
     "text": [
      " 77%|███████████████████████████████▍         | 599/782 [06:18<01:34,  1.94it/s]"
     ]
    },
    {
     "name": "stdout",
     "output_type": "stream",
     "text": [
      "Epoch [2/10], Batch [600], Loss: 6.7797\n"
     ]
    },
    {
     "name": "stderr",
     "output_type": "stream",
     "text": [
      " 90%|████████████████████████████████████▋    | 700/782 [07:20<00:32,  2.49it/s]"
     ]
    },
    {
     "name": "stdout",
     "output_type": "stream",
     "text": [
      "Epoch [2/10], Batch [700], Loss: 6.7403\n"
     ]
    },
    {
     "name": "stderr",
     "output_type": "stream",
     "text": [
      "100%|█████████████████████████████████████████| 782/782 [08:09<00:00,  1.60it/s]\n",
      "100%|███████████████████████████████████████████| 79/79 [00:49<00:00,  1.58it/s]\n"
     ]
    },
    {
     "name": "stdout",
     "output_type": "stream",
     "text": [
      "Validation Loss: 6.6849, Validation Accuracy: 1.14%\n"
     ]
    },
    {
     "name": "stderr",
     "output_type": "stream",
     "text": [
      " 13%|█████▏                                   | 100/782 [01:05<04:55,  2.31it/s]"
     ]
    },
    {
     "name": "stdout",
     "output_type": "stream",
     "text": [
      "Epoch [3/10], Batch [100], Loss: 6.6693\n"
     ]
    },
    {
     "name": "stderr",
     "output_type": "stream",
     "text": [
      " 26%|██████████▍                              | 200/782 [02:08<04:06,  2.36it/s]"
     ]
    },
    {
     "name": "stdout",
     "output_type": "stream",
     "text": [
      "Epoch [3/10], Batch [200], Loss: 6.6247\n"
     ]
    },
    {
     "name": "stderr",
     "output_type": "stream",
     "text": [
      " 38%|███████████████▋                         | 300/782 [03:10<03:32,  2.27it/s]"
     ]
    },
    {
     "name": "stdout",
     "output_type": "stream",
     "text": [
      "Epoch [3/10], Batch [300], Loss: 6.5805\n"
     ]
    },
    {
     "name": "stderr",
     "output_type": "stream",
     "text": [
      " 51%|████████████████████▉                    | 400/782 [04:13<02:44,  2.32it/s]"
     ]
    },
    {
     "name": "stdout",
     "output_type": "stream",
     "text": [
      "Epoch [3/10], Batch [400], Loss: 6.5319\n"
     ]
    },
    {
     "name": "stderr",
     "output_type": "stream",
     "text": [
      " 64%|██████████████████████████▏              | 499/782 [05:16<02:34,  1.83it/s]"
     ]
    },
    {
     "name": "stdout",
     "output_type": "stream",
     "text": [
      "Epoch [3/10], Batch [500], Loss: 6.4804\n"
     ]
    },
    {
     "name": "stderr",
     "output_type": "stream",
     "text": [
      " 77%|███████████████████████████████▍         | 600/782 [06:19<01:16,  2.39it/s]"
     ]
    },
    {
     "name": "stdout",
     "output_type": "stream",
     "text": [
      "Epoch [3/10], Batch [600], Loss: 6.4112\n"
     ]
    },
    {
     "name": "stderr",
     "output_type": "stream",
     "text": [
      " 90%|████████████████████████████████████▋    | 700/782 [07:21<00:34,  2.41it/s]"
     ]
    },
    {
     "name": "stdout",
     "output_type": "stream",
     "text": [
      "Epoch [3/10], Batch [700], Loss: 6.3760\n"
     ]
    },
    {
     "name": "stderr",
     "output_type": "stream",
     "text": [
      "100%|█████████████████████████████████████████| 782/782 [08:10<00:00,  1.59it/s]\n",
      "100%|███████████████████████████████████████████| 79/79 [00:50<00:00,  1.57it/s]\n"
     ]
    },
    {
     "name": "stdout",
     "output_type": "stream",
     "text": [
      "Validation Loss: 6.3848, Validation Accuracy: 1.20%\n"
     ]
    },
    {
     "name": "stderr",
     "output_type": "stream",
     "text": [
      " 13%|█████▏                                   | 100/782 [01:04<04:33,  2.50it/s]"
     ]
    },
    {
     "name": "stdout",
     "output_type": "stream",
     "text": [
      "Epoch [4/10], Batch [100], Loss: 6.2868\n"
     ]
    },
    {
     "name": "stderr",
     "output_type": "stream",
     "text": [
      " 26%|██████████▍                              | 200/782 [02:08<04:14,  2.28it/s]"
     ]
    },
    {
     "name": "stdout",
     "output_type": "stream",
     "text": [
      "Epoch [4/10], Batch [200], Loss: 6.2685\n"
     ]
    },
    {
     "name": "stderr",
     "output_type": "stream",
     "text": [
      " 38%|███████████████▋                         | 299/782 [03:10<04:03,  1.98it/s]"
     ]
    },
    {
     "name": "stdout",
     "output_type": "stream",
     "text": [
      "Epoch [4/10], Batch [300], Loss: 6.2200\n"
     ]
    },
    {
     "name": "stderr",
     "output_type": "stream",
     "text": [
      " 51%|████████████████████▉                    | 400/782 [04:13<02:36,  2.43it/s]"
     ]
    },
    {
     "name": "stdout",
     "output_type": "stream",
     "text": [
      "Epoch [4/10], Batch [400], Loss: 6.1812\n"
     ]
    },
    {
     "name": "stderr",
     "output_type": "stream",
     "text": [
      " 64%|██████████████████████████▏              | 500/782 [05:15<01:47,  2.62it/s]"
     ]
    },
    {
     "name": "stdout",
     "output_type": "stream",
     "text": [
      "Epoch [4/10], Batch [500], Loss: 6.1706\n"
     ]
    },
    {
     "name": "stderr",
     "output_type": "stream",
     "text": [
      " 77%|███████████████████████████████▍         | 600/782 [06:18<01:13,  2.48it/s]"
     ]
    },
    {
     "name": "stdout",
     "output_type": "stream",
     "text": [
      "Epoch [4/10], Batch [600], Loss: 6.1220\n"
     ]
    },
    {
     "name": "stderr",
     "output_type": "stream",
     "text": [
      " 90%|████████████████████████████████████▋    | 700/782 [07:20<00:34,  2.35it/s]"
     ]
    },
    {
     "name": "stdout",
     "output_type": "stream",
     "text": [
      "Epoch [4/10], Batch [700], Loss: 6.0830\n"
     ]
    },
    {
     "name": "stderr",
     "output_type": "stream",
     "text": [
      "100%|█████████████████████████████████████████| 782/782 [08:10<00:00,  1.59it/s]\n",
      "100%|███████████████████████████████████████████| 79/79 [00:50<00:00,  1.57it/s]\n"
     ]
    },
    {
     "name": "stdout",
     "output_type": "stream",
     "text": [
      "Validation Loss: 6.1697, Validation Accuracy: 1.93%\n"
     ]
    },
    {
     "name": "stderr",
     "output_type": "stream",
     "text": [
      " 13%|█████▏                                   | 100/782 [01:05<04:24,  2.58it/s]"
     ]
    },
    {
     "name": "stdout",
     "output_type": "stream",
     "text": [
      "Epoch [5/10], Batch [100], Loss: 6.0083\n"
     ]
    },
    {
     "name": "stderr",
     "output_type": "stream",
     "text": [
      " 26%|██████████▍                              | 200/782 [02:08<04:18,  2.25it/s]"
     ]
    },
    {
     "name": "stdout",
     "output_type": "stream",
     "text": [
      "Epoch [5/10], Batch [200], Loss: 6.0161\n"
     ]
    },
    {
     "name": "stderr",
     "output_type": "stream",
     "text": [
      " 38%|███████████████▋                         | 300/782 [03:11<03:26,  2.33it/s]"
     ]
    },
    {
     "name": "stdout",
     "output_type": "stream",
     "text": [
      "Epoch [5/10], Batch [300], Loss: 5.9420\n"
     ]
    },
    {
     "name": "stderr",
     "output_type": "stream",
     "text": [
      " 51%|████████████████████▉                    | 400/782 [04:14<02:52,  2.21it/s]"
     ]
    },
    {
     "name": "stdout",
     "output_type": "stream",
     "text": [
      "Epoch [5/10], Batch [400], Loss: 5.9242\n"
     ]
    },
    {
     "name": "stderr",
     "output_type": "stream",
     "text": [
      " 64%|██████████████████████████▏              | 500/782 [05:16<01:52,  2.50it/s]"
     ]
    },
    {
     "name": "stdout",
     "output_type": "stream",
     "text": [
      "Epoch [5/10], Batch [500], Loss: 5.8773\n"
     ]
    },
    {
     "name": "stderr",
     "output_type": "stream",
     "text": [
      " 77%|███████████████████████████████▍         | 600/782 [06:19<01:15,  2.41it/s]"
     ]
    },
    {
     "name": "stdout",
     "output_type": "stream",
     "text": [
      "Epoch [5/10], Batch [600], Loss: 5.8557\n"
     ]
    },
    {
     "name": "stderr",
     "output_type": "stream",
     "text": [
      " 90%|████████████████████████████████████▋    | 700/782 [07:21<00:32,  2.53it/s]"
     ]
    },
    {
     "name": "stdout",
     "output_type": "stream",
     "text": [
      "Epoch [5/10], Batch [700], Loss: 5.7754\n"
     ]
    },
    {
     "name": "stderr",
     "output_type": "stream",
     "text": [
      "100%|█████████████████████████████████████████| 782/782 [08:10<00:00,  1.59it/s]\n",
      "100%|███████████████████████████████████████████████████████████████████████████████████████████████| 79/79 [00:50<00:00,  1.56it/s]\n"
     ]
    },
    {
     "name": "stdout",
     "output_type": "stream",
     "text": [
      "Validation Loss: 5.6291, Validation Accuracy: 3.43%\n"
     ]
    },
    {
     "name": "stderr",
     "output_type": "stream",
     "text": [
      " 13%|███████████▉                                                                                 | 100/782 [01:06<04:37,  2.45it/s]"
     ]
    },
    {
     "name": "stdout",
     "output_type": "stream",
     "text": [
      "Epoch [6/10], Batch [100], Loss: 5.4171\n"
     ]
    },
    {
     "name": "stderr",
     "output_type": "stream",
     "text": [
      " 26%|███████████████████████▊                                                                     | 200/782 [02:09<04:15,  2.28it/s]"
     ]
    },
    {
     "name": "stdout",
     "output_type": "stream",
     "text": [
      "Epoch [6/10], Batch [200], Loss: 5.0826\n"
     ]
    },
    {
     "name": "stderr",
     "output_type": "stream",
     "text": [
      " 38%|███████████████████████████████████▌                                                         | 299/782 [03:11<04:03,  1.98it/s]"
     ]
    },
    {
     "name": "stdout",
     "output_type": "stream",
     "text": [
      "Epoch [6/10], Batch [300], Loss: 4.5067\n"
     ]
    },
    {
     "name": "stderr",
     "output_type": "stream",
     "text": [
      " 51%|███████████████████████████████████████████████▍                                             | 399/782 [04:13<03:13,  1.98it/s]"
     ]
    },
    {
     "name": "stdout",
     "output_type": "stream",
     "text": [
      "Epoch [6/10], Batch [400], Loss: 4.1271\n"
     ]
    },
    {
     "name": "stderr",
     "output_type": "stream",
     "text": [
      " 64%|███████████████████████████████████████████████████████████▍                                 | 500/782 [05:16<02:03,  2.28it/s]"
     ]
    },
    {
     "name": "stdout",
     "output_type": "stream",
     "text": [
      "Epoch [6/10], Batch [500], Loss: 3.8600\n"
     ]
    },
    {
     "name": "stderr",
     "output_type": "stream",
     "text": [
      " 77%|███████████████████████████████████████████████████████████████████████▎                     | 600/782 [06:18<01:16,  2.39it/s]"
     ]
    },
    {
     "name": "stdout",
     "output_type": "stream",
     "text": [
      "Epoch [6/10], Batch [600], Loss: 3.6631\n"
     ]
    },
    {
     "name": "stderr",
     "output_type": "stream",
     "text": [
      " 89%|███████████████████████████████████████████████████████████████████████████████████▏         | 699/782 [07:21<00:43,  1.90it/s]"
     ]
    },
    {
     "name": "stdout",
     "output_type": "stream",
     "text": [
      "Epoch [6/10], Batch [700], Loss: 3.4043\n"
     ]
    },
    {
     "name": "stderr",
     "output_type": "stream",
     "text": [
      "100%|█████████████████████████████████████████████████████████████████████████████████████████████| 782/782 [08:10<00:00,  1.59it/s]\n",
      "100%|███████████████████████████████████████████████████████████████████████████████████████████████| 79/79 [00:50<00:00,  1.55it/s]\n"
     ]
    },
    {
     "name": "stdout",
     "output_type": "stream",
     "text": [
      "Validation Loss: 3.7824, Validation Accuracy: 18.58%\n"
     ]
    },
    {
     "name": "stderr",
     "output_type": "stream",
     "text": [
      " 13%|███████████▉                                                                                 | 100/782 [01:05<05:00,  2.27it/s]"
     ]
    },
    {
     "name": "stdout",
     "output_type": "stream",
     "text": [
      "Epoch [7/10], Batch [100], Loss: 2.8949\n"
     ]
    },
    {
     "name": "stderr",
     "output_type": "stream",
     "text": [
      " 26%|███████████████████████▊                                                                     | 200/782 [02:08<04:02,  2.40it/s]"
     ]
    },
    {
     "name": "stdout",
     "output_type": "stream",
     "text": [
      "Epoch [7/10], Batch [200], Loss: 2.6062\n"
     ]
    },
    {
     "name": "stderr",
     "output_type": "stream",
     "text": [
      " 38%|███████████████████████████████████▋                                                         | 300/782 [03:11<03:34,  2.24it/s]"
     ]
    },
    {
     "name": "stdout",
     "output_type": "stream",
     "text": [
      "Epoch [7/10], Batch [300], Loss: 2.3179\n"
     ]
    },
    {
     "name": "stderr",
     "output_type": "stream",
     "text": [
      " 51%|███████████████████████████████████████████████▍                                             | 399/782 [04:14<03:18,  1.93it/s]"
     ]
    },
    {
     "name": "stdout",
     "output_type": "stream",
     "text": [
      "Epoch [7/10], Batch [400], Loss: 2.1039\n"
     ]
    },
    {
     "name": "stderr",
     "output_type": "stream",
     "text": [
      " 64%|███████████████████████████████████████████████████████████▍                                 | 500/782 [05:16<01:49,  2.58it/s]"
     ]
    },
    {
     "name": "stdout",
     "output_type": "stream",
     "text": [
      "Epoch [7/10], Batch [500], Loss: 1.9098\n"
     ]
    },
    {
     "name": "stderr",
     "output_type": "stream",
     "text": [
      " 77%|███████████████████████████████████████████████████████████████████████▎                     | 600/782 [06:19<01:20,  2.26it/s]"
     ]
    },
    {
     "name": "stdout",
     "output_type": "stream",
     "text": [
      "Epoch [7/10], Batch [600], Loss: 1.7420\n"
     ]
    },
    {
     "name": "stderr",
     "output_type": "stream",
     "text": [
      " 89%|███████████████████████████████████████████████████████████████████████████████████▏         | 699/782 [07:21<00:45,  1.84it/s]"
     ]
    },
    {
     "name": "stdout",
     "output_type": "stream",
     "text": [
      "Epoch [7/10], Batch [700], Loss: 1.6367\n"
     ]
    },
    {
     "name": "stderr",
     "output_type": "stream",
     "text": [
      "100%|█████████████████████████████████████████████████████████████████████████████████████████████| 782/782 [08:11<00:00,  1.59it/s]\n",
      "100%|███████████████████████████████████████████████████████████████████████████████████████████████| 79/79 [00:50<00:00,  1.56it/s]\n"
     ]
    },
    {
     "name": "stdout",
     "output_type": "stream",
     "text": [
      "Validation Loss: 1.7197, Validation Accuracy: 53.48%\n"
     ]
    },
    {
     "name": "stderr",
     "output_type": "stream",
     "text": [
      " 13%|███████████▉                                                                                  | 99/782 [01:05<06:18,  1.80it/s]"
     ]
    },
    {
     "name": "stdout",
     "output_type": "stream",
     "text": [
      "Epoch [8/10], Batch [100], Loss: 1.4394\n"
     ]
    },
    {
     "name": "stderr",
     "output_type": "stream",
     "text": [
      " 25%|███████████████████████▋                                                                     | 199/782 [02:08<04:50,  2.01it/s]"
     ]
    },
    {
     "name": "stdout",
     "output_type": "stream",
     "text": [
      "Epoch [8/10], Batch [200], Loss: 1.3619\n"
     ]
    },
    {
     "name": "stderr",
     "output_type": "stream",
     "text": [
      " 33%|██████████████████████████████▎                                                              | 255/782 [02:43<04:30,  1.95it/s]"
     ]
    }
   ],
   "source": [
    "for epoch in range(num_epochs):\n",
    "    model.train()\n",
    "    avg_loss = 0.0\n",
    "    for batch_idx, (tiles, perm_idx) in enumerate(tqdm(train_loader)):\n",
    "        tiles = tiles.to(device)  # Shape: [batch_size, 9, 3, 64, 64]\n",
    "        perm_idx = perm_idx.to(device)  # Shape: [batch_size]\n",
    "\n",
    "        optimizer.zero_grad()\n",
    "        outputs = model(tiles)  # Shape: [batch_size, n_permutations]\n",
    "        loss = criterion(outputs, perm_idx)\n",
    "        loss.backward()\n",
    "        optimizer.step()\n",
    "\n",
    "        avg_loss += loss.item()\n",
    "        if batch_idx % log_each == log_each - 1:\n",
    "            print(f'Epoch [{epoch+1}/{num_epochs}], Batch [{batch_idx+1}], Loss: {avg_loss / 100:.4f}')\n",
    "            avg_loss = 0.0\n",
    "            \n",
    "    model.eval()\n",
    "    val_loss = 0.0\n",
    "    correct = 0\n",
    "    total = 0\n",
    "    with torch.no_grad():\n",
    "        for tiles, perm_idx in tqdm(valid_loader):\n",
    "            tiles = tiles.to(device)\n",
    "            perm_idx = perm_idx.to(device)\n",
    "\n",
    "            outputs = model(tiles)\n",
    "            loss = criterion(outputs, perm_idx)\n",
    "            val_loss += loss.item()\n",
    "\n",
    "            _, predicted = torch.max(outputs.data, 1)\n",
    "            total += perm_idx.size(0)\n",
    "            correct += (predicted == perm_idx).sum().item()\n",
    "\n",
    "    val_accuracy = 100 * correct / total\n",
    "    avg_val_loss = val_loss / len(valid_loader)\n",
    "    print(f'Validation Loss: {avg_val_loss:.4f}, Validation Accuracy: {val_accuracy:.2f}%')\n"
   ]
  },
  {
   "cell_type": "code",
   "execution_count": null,
   "id": "5258e18e-784b-4e0a-9c82-eec57254134d",
   "metadata": {},
   "outputs": [],
   "source": []
  }
 ],
 "metadata": {
  "kernelspec": {
   "display_name": "Python 3 (ipykernel)",
   "language": "python",
   "name": "python3"
  },
  "language_info": {
   "codemirror_mode": {
    "name": "ipython",
    "version": 3
   },
   "file_extension": ".py",
   "mimetype": "text/x-python",
   "name": "python",
   "nbconvert_exporter": "python",
   "pygments_lexer": "ipython3",
   "version": "3.12.5"
  }
 },
 "nbformat": 4,
 "nbformat_minor": 5
}
